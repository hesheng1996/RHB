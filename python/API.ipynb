{
 "cells": [
  {
   "cell_type": "code",
   "execution_count": 2,
   "id": "b197fc12",
   "metadata": {},
   "outputs": [
    {
     "name": "stdout",
     "output_type": "stream",
     "text": [
      "Enter year: 2022\n",
      "Enter month: 08\n"
     ]
    }
   ],
   "source": [
    "\n",
    "    import requests\n",
    "    import pandas as pd\n",
    "    \n",
    "    headers = {'Accept' : 'application/vnd.BNM.API.v1+json'}\n",
    "    parameters = {'session' : '1700',\n",
    "              'quote' : 'rm'}\n",
    "    \n",
    "    dfs = []\n",
    "    \n",
    "    global year \n",
    "    year = input('Enter year: ')\n",
    "    global month \n",
    "    month = input('Enter month: ')    \n",
    "     \n",
    "    urls = [f'https://api.bnm.gov.my/public/exchange-rate/SGD/year/{year}/month/{month}',\n",
    "            f'https://api.bnm.gov.my/public/exchange-rate/THB/year/{year}/month/{month}',\n",
    "            f'https://api.bnm.gov.my/public/exchange-rate/PHP/year/{year}/month/{month}',\n",
    "            f'https://api.bnm.gov.my/public/exchange-rate/GBP/year/{year}/month/{month}',\n",
    "            f'https://api.bnm.gov.my/public/exchange-rate/USD/year/{year}/month/{month}',\n",
    "            f'https://api.bnm.gov.my/public/exchange-rate/AUD/year/{year}/month/{month}',\n",
    "            f'https://api.bnm.gov.my/public/exchange-rate/IDR/year/{year}/month/{month}']\n",
    "\n",
    "    for url in urls:\n",
    "        \n",
    "        response = requests.get(url, headers = headers, params = parameters)\n",
    "        # print(response.url) \n",
    "        \n",
    "        data = response.json()\n",
    "        data2 = data['data']['rate'][-1]\n",
    "        data2['currency_code'] = data['data']['currency_code']\n",
    "        dfs.append(data2)\n",
    "        \n",
    "        \n",
    "    \n",
    "\n"
   ]
  },
  {
   "cell_type": "code",
   "execution_count": 7,
   "id": "bae2d789",
   "metadata": {},
   "outputs": [
    {
     "data": {
      "text/html": [
       "<div>\n",
       "<style scoped>\n",
       "    .dataframe tbody tr th:only-of-type {\n",
       "        vertical-align: middle;\n",
       "    }\n",
       "\n",
       "    .dataframe tbody tr th {\n",
       "        vertical-align: top;\n",
       "    }\n",
       "\n",
       "    .dataframe thead th {\n",
       "        text-align: right;\n",
       "    }\n",
       "</style>\n",
       "<table border=\"1\" class=\"dataframe\">\n",
       "  <thead>\n",
       "    <tr style=\"text-align: right;\">\n",
       "      <th></th>\n",
       "      <th>date</th>\n",
       "      <th>buying_rate</th>\n",
       "      <th>selling_rate</th>\n",
       "      <th>middle_rate</th>\n",
       "      <th>currency_code</th>\n",
       "    </tr>\n",
       "  </thead>\n",
       "  <tbody>\n",
       "    <tr>\n",
       "      <th>0</th>\n",
       "      <td>2022-08-30</td>\n",
       "      <td>3.2079</td>\n",
       "      <td>3.2120</td>\n",
       "      <td>3.2099</td>\n",
       "      <td>SGD</td>\n",
       "    </tr>\n",
       "    <tr>\n",
       "      <th>1</th>\n",
       "      <td>2022-08-30</td>\n",
       "      <td>12.3113</td>\n",
       "      <td>12.3240</td>\n",
       "      <td>12.3176</td>\n",
       "      <td>THB</td>\n",
       "    </tr>\n",
       "    <tr>\n",
       "      <th>2</th>\n",
       "      <td>2022-08-30</td>\n",
       "      <td>7.9662</td>\n",
       "      <td>7.9761</td>\n",
       "      <td>7.9712</td>\n",
       "      <td>PHP</td>\n",
       "    </tr>\n",
       "    <tr>\n",
       "      <th>3</th>\n",
       "      <td>2022-08-30</td>\n",
       "      <td>5.2542</td>\n",
       "      <td>5.2607</td>\n",
       "      <td>5.2575</td>\n",
       "      <td>GBP</td>\n",
       "    </tr>\n",
       "    <tr>\n",
       "      <th>4</th>\n",
       "      <td>2022-08-30</td>\n",
       "      <td>4.4770</td>\n",
       "      <td>4.4810</td>\n",
       "      <td>4.4790</td>\n",
       "      <td>USD</td>\n",
       "    </tr>\n",
       "    <tr>\n",
       "      <th>5</th>\n",
       "      <td>2022-08-30</td>\n",
       "      <td>3.1115</td>\n",
       "      <td>3.1152</td>\n",
       "      <td>3.1134</td>\n",
       "      <td>AUD</td>\n",
       "    </tr>\n",
       "    <tr>\n",
       "      <th>6</th>\n",
       "      <td>2022-08-30</td>\n",
       "      <td>0.0302</td>\n",
       "      <td>0.0302</td>\n",
       "      <td>0.0302</td>\n",
       "      <td>IDR</td>\n",
       "    </tr>\n",
       "  </tbody>\n",
       "</table>\n",
       "</div>"
      ],
      "text/plain": [
       "         date  buying_rate  selling_rate  middle_rate currency_code\n",
       "0  2022-08-30       3.2079        3.2120       3.2099           SGD\n",
       "1  2022-08-30      12.3113       12.3240      12.3176           THB\n",
       "2  2022-08-30       7.9662        7.9761       7.9712           PHP\n",
       "3  2022-08-30       5.2542        5.2607       5.2575           GBP\n",
       "4  2022-08-30       4.4770        4.4810       4.4790           USD\n",
       "5  2022-08-30       3.1115        3.1152       3.1134           AUD\n",
       "6  2022-08-30       0.0302        0.0302       0.0302           IDR"
      ]
     },
     "execution_count": 7,
     "metadata": {},
     "output_type": "execute_result"
    }
   ],
   "source": [
    "df=pd.DataFrame(dfs)\n",
    "df"
   ]
  },
  {
   "cell_type": "code",
   "execution_count": 8,
   "id": "5ec2d362",
   "metadata": {},
   "outputs": [
    {
     "data": {
      "text/plain": [
       "{'date': '2022-08-30',\n",
       " 'buying_rate': 0.0302,\n",
       " 'selling_rate': 0.0302,\n",
       " 'middle_rate': 0.0302,\n",
       " 'currency_code': 'IDR'}"
      ]
     },
     "execution_count": 8,
     "metadata": {},
     "output_type": "execute_result"
    }
   ],
   "source": [
    "data2"
   ]
  }
 ],
 "metadata": {
  "kernelspec": {
   "display_name": "Python 3 (ipykernel)",
   "language": "python",
   "name": "python3"
  },
  "language_info": {
   "codemirror_mode": {
    "name": "ipython",
    "version": 3
   },
   "file_extension": ".py",
   "mimetype": "text/x-python",
   "name": "python",
   "nbconvert_exporter": "python",
   "pygments_lexer": "ipython3",
   "version": "3.9.13"
  }
 },
 "nbformat": 4,
 "nbformat_minor": 5
}
