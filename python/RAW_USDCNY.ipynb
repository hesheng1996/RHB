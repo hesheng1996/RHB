{
 "cells": [
  {
   "cell_type": "code",
   "execution_count": 27,
   "id": "2f4197f2",
   "metadata": {},
   "outputs": [
    {
     "name": "stdout",
     "output_type": "stream",
     "text": [
      "[*********************100%***********************]  2 of 2 completed\n"
     ]
    },
    {
     "data": {
      "text/html": [
       "<div>\n",
       "<style scoped>\n",
       "    .dataframe tbody tr th:only-of-type {\n",
       "        vertical-align: middle;\n",
       "    }\n",
       "\n",
       "    .dataframe tbody tr th {\n",
       "        vertical-align: top;\n",
       "    }\n",
       "\n",
       "    .dataframe thead th {\n",
       "        text-align: right;\n",
       "    }\n",
       "</style>\n",
       "<table border=\"1\" class=\"dataframe\">\n",
       "  <thead>\n",
       "    <tr style=\"text-align: right;\">\n",
       "      <th></th>\n",
       "      <th>Date</th>\n",
       "      <th>USDCNY=X</th>\n",
       "      <th>USDMYR=X</th>\n",
       "    </tr>\n",
       "  </thead>\n",
       "  <tbody>\n",
       "    <tr>\n",
       "      <th>0</th>\n",
       "      <td>2013-01-01</td>\n",
       "      <td>6.2306</td>\n",
       "      <td>3.0544</td>\n",
       "    </tr>\n",
       "    <tr>\n",
       "      <th>1</th>\n",
       "      <td>2013-01-02</td>\n",
       "      <td>6.2376</td>\n",
       "      <td>3.0304</td>\n",
       "    </tr>\n",
       "    <tr>\n",
       "      <th>2</th>\n",
       "      <td>2013-01-03</td>\n",
       "      <td>6.2332</td>\n",
       "      <td>3.0350</td>\n",
       "    </tr>\n",
       "    <tr>\n",
       "      <th>3</th>\n",
       "      <td>2013-01-04</td>\n",
       "      <td>6.2325</td>\n",
       "      <td>3.0457</td>\n",
       "    </tr>\n",
       "    <tr>\n",
       "      <th>4</th>\n",
       "      <td>2013-01-07</td>\n",
       "      <td>6.2305</td>\n",
       "      <td>3.0396</td>\n",
       "    </tr>\n",
       "  </tbody>\n",
       "</table>\n",
       "</div>"
      ],
      "text/plain": [
       "        Date  USDCNY=X  USDMYR=X\n",
       "0 2013-01-01    6.2306    3.0544\n",
       "1 2013-01-02    6.2376    3.0304\n",
       "2 2013-01-03    6.2332    3.0350\n",
       "3 2013-01-04    6.2325    3.0457\n",
       "4 2013-01-07    6.2305    3.0396"
      ]
     },
     "execution_count": 27,
     "metadata": {},
     "output_type": "execute_result"
    }
   ],
   "source": [
    "import pandas as pd\n",
    "import yfinance as yf\n",
    "import numpy as np\n",
    "\n",
    " \n",
    "\n",
    "# Define the list of Forex symbols you want to download\n",
    "symbols = ['USDMYR=X', 'USDCNY=X']\n",
    "\n",
    " \n",
    "\n",
    "# Define the start and end dates for the data\n",
    "start_date = '2013-01-01'\n",
    "end_date = '2023-07-31'\n",
    "\n",
    " \n",
    "\n",
    "# Download the Forex data using yfinance\n",
    "forex_data = yf.download(symbols, start=start_date, end=end_date)['Adj Close']\n",
    "\n",
    " \n",
    "\n",
    "# Create a DataFrame from the downloaded data\n",
    "df = pd.DataFrame(forex_data)\n",
    "df_ma= df.rolling(window=3).mean()\n",
    "\n",
    "df=df.reset_index()\n",
    "df_ma=df_ma.reset_index()\n",
    "\n",
    " \n",
    "df.head()"
   ]
  },
  {
   "cell_type": "code",
   "execution_count": 28,
   "id": "e6c677b5",
   "metadata": {},
   "outputs": [],
   "source": [
    "df.to_excel(r'\\\\10.186.237.122\\grcm\\GCRM-GEN\\GCCRM\\Group Corporate Credit Risk\\Pet Project\\VECM\\corr6.xlsx', index=False)"
   ]
  },
  {
   "cell_type": "code",
   "execution_count": 29,
   "id": "27b567e1",
   "metadata": {},
   "outputs": [],
   "source": [
    "df.columns = ['Date', 'USDCNY', 'USDMYR']\n",
    "df_ma.columns = ['Date', 'USDCNY', 'USDMYR']"
   ]
  },
  {
   "cell_type": "code",
   "execution_count": 30,
   "id": "23882dbf",
   "metadata": {},
   "outputs": [
    {
     "data": {
      "text/html": [
       "<div>\n",
       "<style scoped>\n",
       "    .dataframe tbody tr th:only-of-type {\n",
       "        vertical-align: middle;\n",
       "    }\n",
       "\n",
       "    .dataframe tbody tr th {\n",
       "        vertical-align: top;\n",
       "    }\n",
       "\n",
       "    .dataframe thead th {\n",
       "        text-align: right;\n",
       "    }\n",
       "</style>\n",
       "<table border=\"1\" class=\"dataframe\">\n",
       "  <thead>\n",
       "    <tr style=\"text-align: right;\">\n",
       "      <th></th>\n",
       "      <th>Date</th>\n",
       "      <th>USDCNY</th>\n",
       "      <th>USDMYR</th>\n",
       "    </tr>\n",
       "  </thead>\n",
       "  <tbody>\n",
       "    <tr>\n",
       "      <th>0</th>\n",
       "      <td>2013-10-08 00:00:00.000000</td>\n",
       "      <td>None</td>\n",
       "      <td>3.1938</td>\n",
       "    </tr>\n",
       "    <tr>\n",
       "      <th>1</th>\n",
       "      <td>2017-07-11 00:00:00.000000</td>\n",
       "      <td>None</td>\n",
       "      <td>4.2950</td>\n",
       "    </tr>\n",
       "    <tr>\n",
       "      <th>2</th>\n",
       "      <td>2017-11-16 00:00:00.000000</td>\n",
       "      <td>None</td>\n",
       "      <td>4.1691</td>\n",
       "    </tr>\n",
       "  </tbody>\n",
       "</table>\n",
       "</div>"
      ],
      "text/plain": [
       "                         Date USDCNY  USDMYR\n",
       "0  2013-10-08 00:00:00.000000   None  3.1938\n",
       "1  2017-07-11 00:00:00.000000   None  4.2950\n",
       "2  2017-11-16 00:00:00.000000   None  4.1691"
      ]
     },
     "execution_count": 30,
     "metadata": {},
     "output_type": "execute_result"
    }
   ],
   "source": [
    "\n",
    "from pandasql import sqldf\n",
    "\n",
    "check_df=sqldf(\"\"\"Select * \n",
    "                  from df where USDCNY is null or USDMYR is null\"\"\")\n",
    "check_df.head()"
   ]
  },
  {
   "cell_type": "code",
   "execution_count": 31,
   "id": "237e5e3b",
   "metadata": {},
   "outputs": [
    {
     "data": {
      "text/html": [
       "<div>\n",
       "<style scoped>\n",
       "    .dataframe tbody tr th:only-of-type {\n",
       "        vertical-align: middle;\n",
       "    }\n",
       "\n",
       "    .dataframe tbody tr th {\n",
       "        vertical-align: top;\n",
       "    }\n",
       "\n",
       "    .dataframe thead th {\n",
       "        text-align: right;\n",
       "    }\n",
       "</style>\n",
       "<table border=\"1\" class=\"dataframe\">\n",
       "  <thead>\n",
       "    <tr style=\"text-align: right;\">\n",
       "      <th></th>\n",
       "      <th>Date</th>\n",
       "      <th>USDCNY</th>\n",
       "      <th>USDMYR</th>\n",
       "    </tr>\n",
       "  </thead>\n",
       "  <tbody>\n",
       "    <tr>\n",
       "      <th>200</th>\n",
       "      <td>2013-10-08</td>\n",
       "      <td>NaN</td>\n",
       "      <td>3.1938</td>\n",
       "    </tr>\n",
       "    <tr>\n",
       "      <th>1180</th>\n",
       "      <td>2017-07-11</td>\n",
       "      <td>NaN</td>\n",
       "      <td>4.2950</td>\n",
       "    </tr>\n",
       "    <tr>\n",
       "      <th>1272</th>\n",
       "      <td>2017-11-16</td>\n",
       "      <td>NaN</td>\n",
       "      <td>4.1691</td>\n",
       "    </tr>\n",
       "  </tbody>\n",
       "</table>\n",
       "</div>"
      ],
      "text/plain": [
       "           Date  USDCNY  USDMYR\n",
       "200  2013-10-08     NaN  3.1938\n",
       "1180 2017-07-11     NaN  4.2950\n",
       "1272 2017-11-16     NaN  4.1691"
      ]
     },
     "execution_count": 31,
     "metadata": {},
     "output_type": "execute_result"
    }
   ],
   "source": [
    "null_rows = df[df.isnull().any(axis=1)]\n",
    "null_rows"
   ]
  },
  {
   "cell_type": "code",
   "execution_count": 32,
   "id": "9a21b4b6",
   "metadata": {},
   "outputs": [],
   "source": [
    "\n",
    "df2=sqldf(\"\"\"Select * \n",
    "              from df \n",
    "              where USDCNY is not null and USDMYR is not null \"\"\")\n",
    "\n",
    "df2_ma =sqldf(\"\"\"Select * \n",
    "                  from df_ma \n",
    "                  where USDCNY is not null and USDMYR is not null \"\"\")\n",
    "\n"
   ]
  },
  {
   "cell_type": "code",
   "execution_count": 10,
   "id": "fd9fa7ba",
   "metadata": {},
   "outputs": [
    {
     "data": {
      "image/png": "[encoded data removed]",
      "text/plain": [
       "<Figure size 1500x700 with 1 Axes>"
      ]
     },
     "metadata": {},
     "output_type": "display_data"
    }
   ],
   "source": [
    "import matplotlib.pyplot as plt\n",
    "%matplotlib inline\n",
    "\n",
    "plt.figure(figsize=(15, 7))\n",
    "\n",
    "# Create line chart\n",
    "plt.plot(df2['Date'], df2['USDCNY'], label='USD/CNY')\n",
    "plt.plot(df2['Date'], df2['USDMYR'], label='USD/MYR')\n",
    "\n",
    "\n",
    "\n",
    "\n",
    "# Add labels, title, and legend\n",
    "plt.xlabel('Date')\n",
    "plt.ylabel('Currency')\n",
    "\n",
    "plt.legend()\n",
    "\n",
    "# Display the chart\n",
    "plt.show()"
   ]
  },
  {
   "cell_type": "code",
   "execution_count": 11,
   "id": "e7f2b170",
   "metadata": {},
   "outputs": [
    {
     "data": {
      "image/png": "[encoded data removed]",
      "text/plain": [
       "<Figure size 640x480 with 1 Axes>"
      ]
     },
     "metadata": {},
     "output_type": "display_data"
    }
   ],
   "source": [
    "plt.scatter(df2['Date'], df2['USDCNY'], label='USD/CNY')\n",
    "plt.scatter(df2['Date'], df2['USDMYR'], label='USD/MYR')\n",
    "\n",
    "# Add labels and title\n",
    "plt.xlabel('Date')\n",
    "plt.ylabel('Value')\n",
    "plt.title('Scatter Plot of Time Series Data')\n",
    "\n",
    "# Rotate the date labels on the x-axis for better readability (optional)\n",
    "plt.xticks(rotation=45)\n",
    "\n",
    "# Show the plot\n",
    "plt.show()"
   ]
  },
  {
   "cell_type": "code",
   "execution_count": 26,
   "id": "1d8d3df4",
   "metadata": {},
   "outputs": [],
   "source": [
    "df2_ma.to_excel(r'\\\\10.186.237.122\\grcm\\GCRM-GEN\\GCCRM\\Group Corporate Credit Risk\\Pet Project\\VECM\\corr7.xlsx', index=False)"
   ]
  },
  {
   "cell_type": "code",
   "execution_count": 33,
   "id": "0db997d7",
   "metadata": {},
   "outputs": [],
   "source": [
    "df3 = df2.drop(columns='Date')\n",
    "df3_ma = df2_ma.drop(columns='Date')"
   ]
  },
  {
   "cell_type": "code",
   "execution_count": 34,
   "id": "7f995db7",
   "metadata": {
    "scrolled": true
   },
   "outputs": [
    {
     "name": "stdout",
     "output_type": "stream",
     "text": [
      "         USDCNY   USDMYR\n",
      "USDCNY  1.00000  0.80077\n",
      "USDMYR  0.80077  1.00000\n",
      "          USDCNY    USDMYR\n",
      "USDCNY  1.000000  0.800904\n",
      "USDMYR  0.800904  1.000000\n"
     ]
    }
   ],
   "source": [
    "df3_corr = df3.corr()\n",
    "df3_ma_corr = df3_ma.corr()\n",
    "\n",
    "print(df3_corr)\n",
    "print(df3_ma_corr)"
   ]
  },
  {
   "cell_type": "code",
   "execution_count": 35,
   "id": "45eb2ae3",
   "metadata": {},
   "outputs": [
    {
     "name": "stdout",
     "output_type": "stream",
     "text": [
      "0.641233245571037\n",
      "0.6414466220025841\n"
     ]
    }
   ],
   "source": [
    "from sklearn.linear_model import LinearRegression\n",
    "lm = LinearRegression()\n",
    "lm.fit(df3[['USDCNY']], df3[['USDMYR']])\n",
    "r_squared = lm.score(df3[['USDCNY']], df3[['USDMYR']])\n",
    "\n",
    "lm2 = LinearRegression()\n",
    "lm2.fit(df3_ma[['USDCNY']], df3_ma[['USDMYR']])\n",
    "r_squared_ma = lm.score(df3_ma[['USDCNY']], df3_ma[['USDMYR']])\n",
    "\n",
    "print(r_squared)\n",
    "print(r_squared_ma)"
   ]
  },
  {
   "cell_type": "code",
   "execution_count": 36,
   "id": "38671899",
   "metadata": {},
   "outputs": [
    {
     "name": "stdout",
     "output_type": "stream",
     "text": [
      "Intercept_lm => [-2.96666398]\n",
      "coefficient_lm => [[1.05799689]]\n",
      "Intercept_lm2 => [-2.96243034]\n",
      "coefficient_lm2 => [[1.05740554]]\n"
     ]
    }
   ],
   "source": [
    "print(f\"Intercept_lm => {lm.intercept_}\")\n",
    "print(f\"coefficient_lm => {lm.coef_}\")\n",
    "print(f\"Intercept_lm2 => {lm2.intercept_}\")\n",
    "print(f\"coefficient_lm2 => {lm2.coef_}\")"
   ]
  },
  {
   "cell_type": "code",
   "execution_count": 46,
   "id": "0fe987da",
   "metadata": {},
   "outputs": [
    {
     "name": "stdout",
     "output_type": "stream",
     "text": [
      "2754\n",
      "2746\n"
     ]
    }
   ],
   "source": [
    "# Calculate the number of data points\n",
    "num_data_points = df3[['USDCNY']].shape[0]\n",
    "num_data_points_ma = df3_ma[['USDMYR']].shape[0]\n",
    "print(num_data_points)\n",
    "print(num_data_points_ma)"
   ]
  },
  {
   "cell_type": "code",
   "execution_count": 47,
   "id": "dca338c1",
   "metadata": {},
   "outputs": [
    {
     "name": "stdout",
     "output_type": "stream",
     "text": [
      "1\n",
      "1\n"
     ]
    }
   ],
   "source": [
    "num_predictors = df3[['USDCNY']].shape[1]\n",
    "num_predictors_ma = df3_ma[['USDCNY']].shape[1]\n",
    "print(num_predictors)\n",
    "print(num_predictors_ma)\n"
   ]
  },
  {
   "cell_type": "code",
   "execution_count": 39,
   "id": "68f650cf",
   "metadata": {},
   "outputs": [
    {
     "name": "stdout",
     "output_type": "stream",
     "text": [
      "0.641102879744573\n",
      "0.6413159538619144\n"
     ]
    }
   ],
   "source": [
    "adjusted_r_squared = 1 - (1 - r_squared) * ((num_data_points - 1) / (num_data_points - num_predictors - 1))\n",
    "adjusted_r_squared_ma = 1 - (1 - r_squared_ma) * ((num_data_points_ma - 1) / (num_data_points_ma - num_predictors_ma - 1))\n",
    "print(adjusted_r_squared)\n",
    "print(adjusted_r_squared_ma)"
   ]
  },
  {
   "cell_type": "code",
   "execution_count": 40,
   "id": "0d36812a",
   "metadata": {},
   "outputs": [
    {
     "data": {
      "text/html": [
       "<div>\n",
       "<style scoped>\n",
       "    .dataframe tbody tr th:only-of-type {\n",
       "        vertical-align: middle;\n",
       "    }\n",
       "\n",
       "    .dataframe tbody tr th {\n",
       "        vertical-align: top;\n",
       "    }\n",
       "\n",
       "    .dataframe thead th {\n",
       "        text-align: right;\n",
       "    }\n",
       "</style>\n",
       "<table border=\"1\" class=\"dataframe\">\n",
       "  <thead>\n",
       "    <tr style=\"text-align: right;\">\n",
       "      <th></th>\n",
       "      <th>Date</th>\n",
       "      <th>USDCNY</th>\n",
       "      <th>USDMYR</th>\n",
       "      <th>X2</th>\n",
       "    </tr>\n",
       "  </thead>\n",
       "  <tbody>\n",
       "    <tr>\n",
       "      <th>0</th>\n",
       "      <td>2013-01-03 00:00:00.000000</td>\n",
       "      <td>6.233800</td>\n",
       "      <td>3.039933</td>\n",
       "      <td>0</td>\n",
       "    </tr>\n",
       "    <tr>\n",
       "      <th>1</th>\n",
       "      <td>2013-01-04 00:00:00.000000</td>\n",
       "      <td>6.234433</td>\n",
       "      <td>3.037033</td>\n",
       "      <td>0</td>\n",
       "    </tr>\n",
       "    <tr>\n",
       "      <th>2</th>\n",
       "      <td>2013-01-07 00:00:00.000000</td>\n",
       "      <td>6.232067</td>\n",
       "      <td>3.040100</td>\n",
       "      <td>0</td>\n",
       "    </tr>\n",
       "    <tr>\n",
       "      <th>3</th>\n",
       "      <td>2013-01-08 00:00:00.000000</td>\n",
       "      <td>6.230934</td>\n",
       "      <td>3.042500</td>\n",
       "      <td>0</td>\n",
       "    </tr>\n",
       "    <tr>\n",
       "      <th>4</th>\n",
       "      <td>2013-01-09 00:00:00.000000</td>\n",
       "      <td>6.228167</td>\n",
       "      <td>3.039367</td>\n",
       "      <td>0</td>\n",
       "    </tr>\n",
       "    <tr>\n",
       "      <th>...</th>\n",
       "      <td>...</td>\n",
       "      <td>...</td>\n",
       "      <td>...</td>\n",
       "      <td>...</td>\n",
       "    </tr>\n",
       "    <tr>\n",
       "      <th>2741</th>\n",
       "      <td>2023-07-24 00:00:00.000000</td>\n",
       "      <td>7.193433</td>\n",
       "      <td>4.547833</td>\n",
       "      <td>1</td>\n",
       "    </tr>\n",
       "    <tr>\n",
       "      <th>2742</th>\n",
       "      <td>2023-07-25 00:00:00.000000</td>\n",
       "      <td>7.179900</td>\n",
       "      <td>4.558167</td>\n",
       "      <td>1</td>\n",
       "    </tr>\n",
       "    <tr>\n",
       "      <th>2743</th>\n",
       "      <td>2023-07-26 00:00:00.000000</td>\n",
       "      <td>7.166200</td>\n",
       "      <td>4.568500</td>\n",
       "      <td>1</td>\n",
       "    </tr>\n",
       "    <tr>\n",
       "      <th>2744</th>\n",
       "      <td>2023-07-27 00:00:00.000000</td>\n",
       "      <td>7.156900</td>\n",
       "      <td>4.564000</td>\n",
       "      <td>1</td>\n",
       "    </tr>\n",
       "    <tr>\n",
       "      <th>2745</th>\n",
       "      <td>2023-07-28 00:00:00.000000</td>\n",
       "      <td>7.152833</td>\n",
       "      <td>4.546333</td>\n",
       "      <td>1</td>\n",
       "    </tr>\n",
       "  </tbody>\n",
       "</table>\n",
       "<p>2746 rows × 4 columns</p>\n",
       "</div>"
      ],
      "text/plain": [
       "                            Date    USDCNY    USDMYR  X2\n",
       "0     2013-01-03 00:00:00.000000  6.233800  3.039933   0\n",
       "1     2013-01-04 00:00:00.000000  6.234433  3.037033   0\n",
       "2     2013-01-07 00:00:00.000000  6.232067  3.040100   0\n",
       "3     2013-01-08 00:00:00.000000  6.230934  3.042500   0\n",
       "4     2013-01-09 00:00:00.000000  6.228167  3.039367   0\n",
       "...                          ...       ...       ...  ..\n",
       "2741  2023-07-24 00:00:00.000000  7.193433  4.547833   1\n",
       "2742  2023-07-25 00:00:00.000000  7.179900  4.558167   1\n",
       "2743  2023-07-26 00:00:00.000000  7.166200  4.568500   1\n",
       "2744  2023-07-27 00:00:00.000000  7.156900  4.564000   1\n",
       "2745  2023-07-28 00:00:00.000000  7.152833  4.546333   1\n",
       "\n",
       "[2746 rows x 4 columns]"
      ]
     },
     "execution_count": 40,
     "metadata": {},
     "output_type": "execute_result"
    }
   ],
   "source": [
    "df4 = sqldf(\"\"\"select *,\n",
    "                case when Date < '2018-01-01' then 0 else 1 end as X2\n",
    "                from df2\n",
    "              \"\"\")\n",
    "df4_ma = sqldf(\"\"\"select *,\n",
    "                case when Date < '2018-01-01' then 0 else 1 end as X2\n",
    "                from df2_ma\n",
    "              \"\"\")\n",
    "df4_ma"
   ]
  },
  {
   "cell_type": "code",
   "execution_count": 41,
   "id": "53157ed8",
   "metadata": {},
   "outputs": [
    {
     "name": "stdout",
     "output_type": "stream",
     "text": [
      "r_squared_multi = 0.6564312024387688\n",
      "r_squared_multi_ma = 0.6567215665251944\n",
      "adjusted_r_squared_multi = 0.6563063591257016\n",
      "adjusted_r_squared_multi_ma = 0.6565964650552691\n"
     ]
    }
   ],
   "source": [
    "\n",
    "lm_multi = LinearRegression()\n",
    "lm_multi.fit(df4[['USDCNY','X2']], df4[['USDMYR']])\n",
    "r_squared_multi = lm_multi.score(df4[['USDCNY','X2']], df4[['USDMYR']])\n",
    "\n",
    "lm_multi_ma = LinearRegression()\n",
    "lm_multi_ma.fit(df4_ma[['USDCNY','X2']], df4_ma[['USDMYR']])\n",
    "r_squared_multi_ma = lm_multi.score(df4_ma[['USDCNY','X2']], df4_ma[['USDMYR']])\n",
    "\n",
    "adjusted_r_squared_multi = 1 - (1 - r_squared_multi) * ((num_data_points - 1) / (num_data_points - num_predictors - 1))\n",
    "adjusted_r_squared_multi_ma = 1 - (1 - r_squared_multi_ma) * ((num_data_points_ma - 1) / (num_data_points_ma - num_predictors_ma - 1))\n",
    "\n",
    "print(f\"r_squared_multi = {r_squared_multi}\")\n",
    "print(f\"r_squared_multi_ma = {r_squared_multi_ma}\")\n",
    "print(f\"adjusted_r_squared_multi = {adjusted_r_squared_multi}\")\n",
    "print(f\"adjusted_r_squared_multi_ma = {adjusted_r_squared_multi_ma}\")"
   ]
  },
  {
   "cell_type": "code",
   "execution_count": 42,
   "id": "dd632914",
   "metadata": {},
   "outputs": [
    {
     "name": "stdout",
     "output_type": "stream",
     "text": [
      "Intercept_lm_multi => [-2.34133678]\n",
      "coefficient_lm_multi => [[0.95280537 0.12635073]]\n",
      "Intercept_lm_multi_ma => [-2.33506451]\n",
      "coefficient_lm_multi_ma => [[0.95185978 0.1265445 ]]\n"
     ]
    }
   ],
   "source": [
    "print(f\"Intercept_lm_multi => {lm_multi.intercept_}\")\n",
    "print(f\"coefficient_lm_multi => {lm_multi.coef_}\")\n",
    "print(f\"Intercept_lm_multi_ma => {lm_multi_ma.intercept_}\")\n",
    "print(f\"coefficient_lm_multi_ma => {lm_multi_ma.coef_}\")"
   ]
  },
  {
   "cell_type": "code",
   "execution_count": 43,
   "id": "d50d18fe",
   "metadata": {},
   "outputs": [
    {
     "data": {
      "text/html": [
       "<div>\n",
       "<style scoped>\n",
       "    .dataframe tbody tr th:only-of-type {\n",
       "        vertical-align: middle;\n",
       "    }\n",
       "\n",
       "    .dataframe tbody tr th {\n",
       "        vertical-align: top;\n",
       "    }\n",
       "\n",
       "    .dataframe thead th {\n",
       "        text-align: right;\n",
       "    }\n",
       "</style>\n",
       "<table border=\"1\" class=\"dataframe\">\n",
       "  <thead>\n",
       "    <tr style=\"text-align: right;\">\n",
       "      <th></th>\n",
       "      <th>Date</th>\n",
       "      <th>USDCNY</th>\n",
       "      <th>USDMYR</th>\n",
       "      <th>X2</th>\n",
       "      <th>Predicted_value</th>\n",
       "    </tr>\n",
       "  </thead>\n",
       "  <tbody>\n",
       "    <tr>\n",
       "      <th>0</th>\n",
       "      <td>2013-01-03 00:00:00.000000</td>\n",
       "      <td>6.233800</td>\n",
       "      <td>3.039933</td>\n",
       "      <td>0</td>\n",
       "      <td>3.598639</td>\n",
       "    </tr>\n",
       "    <tr>\n",
       "      <th>1</th>\n",
       "      <td>2013-01-04 00:00:00.000000</td>\n",
       "      <td>6.234433</td>\n",
       "      <td>3.037033</td>\n",
       "      <td>0</td>\n",
       "      <td>3.599242</td>\n",
       "    </tr>\n",
       "    <tr>\n",
       "      <th>2</th>\n",
       "      <td>2013-01-07 00:00:00.000000</td>\n",
       "      <td>6.232067</td>\n",
       "      <td>3.040100</td>\n",
       "      <td>0</td>\n",
       "      <td>3.596989</td>\n",
       "    </tr>\n",
       "    <tr>\n",
       "      <th>3</th>\n",
       "      <td>2013-01-08 00:00:00.000000</td>\n",
       "      <td>6.230934</td>\n",
       "      <td>3.042500</td>\n",
       "      <td>0</td>\n",
       "      <td>3.595911</td>\n",
       "    </tr>\n",
       "    <tr>\n",
       "      <th>4</th>\n",
       "      <td>2013-01-09 00:00:00.000000</td>\n",
       "      <td>6.228167</td>\n",
       "      <td>3.039367</td>\n",
       "      <td>0</td>\n",
       "      <td>3.593277</td>\n",
       "    </tr>\n",
       "    <tr>\n",
       "      <th>...</th>\n",
       "      <td>...</td>\n",
       "      <td>...</td>\n",
       "      <td>...</td>\n",
       "      <td>...</td>\n",
       "      <td>...</td>\n",
       "    </tr>\n",
       "    <tr>\n",
       "      <th>2741</th>\n",
       "      <td>2023-07-24 00:00:00.000000</td>\n",
       "      <td>7.193433</td>\n",
       "      <td>4.547833</td>\n",
       "      <td>1</td>\n",
       "      <td>4.638620</td>\n",
       "    </tr>\n",
       "    <tr>\n",
       "      <th>2742</th>\n",
       "      <td>2023-07-25 00:00:00.000000</td>\n",
       "      <td>7.179900</td>\n",
       "      <td>4.558167</td>\n",
       "      <td>1</td>\n",
       "      <td>4.625738</td>\n",
       "    </tr>\n",
       "    <tr>\n",
       "      <th>2743</th>\n",
       "      <td>2023-07-26 00:00:00.000000</td>\n",
       "      <td>7.166200</td>\n",
       "      <td>4.568500</td>\n",
       "      <td>1</td>\n",
       "      <td>4.612697</td>\n",
       "    </tr>\n",
       "    <tr>\n",
       "      <th>2744</th>\n",
       "      <td>2023-07-27 00:00:00.000000</td>\n",
       "      <td>7.156900</td>\n",
       "      <td>4.564000</td>\n",
       "      <td>1</td>\n",
       "      <td>4.603845</td>\n",
       "    </tr>\n",
       "    <tr>\n",
       "      <th>2745</th>\n",
       "      <td>2023-07-28 00:00:00.000000</td>\n",
       "      <td>7.152833</td>\n",
       "      <td>4.546333</td>\n",
       "      <td>1</td>\n",
       "      <td>4.599974</td>\n",
       "    </tr>\n",
       "  </tbody>\n",
       "</table>\n",
       "<p>2746 rows × 5 columns</p>\n",
       "</div>"
      ],
      "text/plain": [
       "                            Date    USDCNY    USDMYR  X2  Predicted_value\n",
       "0     2013-01-03 00:00:00.000000  6.233800  3.039933   0         3.598639\n",
       "1     2013-01-04 00:00:00.000000  6.234433  3.037033   0         3.599242\n",
       "2     2013-01-07 00:00:00.000000  6.232067  3.040100   0         3.596989\n",
       "3     2013-01-08 00:00:00.000000  6.230934  3.042500   0         3.595911\n",
       "4     2013-01-09 00:00:00.000000  6.228167  3.039367   0         3.593277\n",
       "...                          ...       ...       ...  ..              ...\n",
       "2741  2023-07-24 00:00:00.000000  7.193433  4.547833   1         4.638620\n",
       "2742  2023-07-25 00:00:00.000000  7.179900  4.558167   1         4.625738\n",
       "2743  2023-07-26 00:00:00.000000  7.166200  4.568500   1         4.612697\n",
       "2744  2023-07-27 00:00:00.000000  7.156900  4.564000   1         4.603845\n",
       "2745  2023-07-28 00:00:00.000000  7.152833  4.546333   1         4.599974\n",
       "\n",
       "[2746 rows x 5 columns]"
      ]
     },
     "execution_count": 43,
     "metadata": {},
     "output_type": "execute_result"
    }
   ],
   "source": [
    "predicted_values = lm_multi.predict(df4[['USDCNY','X2']])\n",
    "df4['Predicted_value'] = predicted_values\n",
    "\n",
    "predicted_values_ma = lm_multi_ma.predict(df4_ma[['USDCNY','X2']])\n",
    "df4_ma['Predicted_value'] = predicted_values_ma\n",
    "df4_ma"
   ]
  },
  {
   "cell_type": "code",
   "execution_count": 44,
   "id": "5b6ee57b",
   "metadata": {},
   "outputs": [
    {
     "name": "stdout",
     "output_type": "stream",
     "text": [
      "RMSE => 0.2519426657090663\n",
      "RMSE_ma => 0.2514279450457748\n",
      "SI => 6.309233574564829\n",
      "SI_ma => 6.295722371833011\n"
     ]
    }
   ],
   "source": [
    "from sklearn.metrics import mean_squared_error\n",
    "mse = mean_squared_error(df4[['USDMYR']],df4[['Predicted_value']] )\n",
    "rmse = np.sqrt(mse)\n",
    "\n",
    "mse_ma = mean_squared_error(df4_ma[['USDMYR']],df4_ma[['Predicted_value']] )\n",
    "rmse_ma = np.sqrt(mse_ma)\n",
    "\n",
    "mean = df4['USDMYR'].mean()\n",
    "mean_ma = df4_ma['USDMYR'].mean()\n",
    "\n",
    "#scatter Index\n",
    "SI = rmse/mean * 100\n",
    "SI_ma = rmse_ma/mean_ma * 100\n",
    "\n",
    "print(f\"RMSE => {rmse}\")\n",
    "print(f\"RMSE_ma => {rmse_ma}\")\n",
    "print(f\"SI => {SI}\")\n",
    "print(f\"SI_ma => {SI_ma}\")\n"
   ]
  },
  {
   "cell_type": "code",
   "execution_count": 24,
   "id": "5708910f",
   "metadata": {},
   "outputs": [],
   "source": [
    "# from sklearn import metrics\n",
    "\n",
    "# print('MAE:', metrics.mean_absolute_error(y_test, predictions))\n",
    "# print('MSE:', metrics.mean_squared_error(y_test, predictions))\n",
    "# print('RMSE:', np.sqrt(metrics.mean_squared_error(y_test, predictions)))"
   ]
  },
  {
   "cell_type": "code",
   "execution_count": 25,
   "id": "f7ca3bb6",
   "metadata": {},
   "outputs": [
    {
     "data": {
      "image/png": "[encoded data removed]",
      "text/plain": [
       "<Figure size 640x480 with 1 Axes>"
      ]
     },
     "metadata": {},
     "output_type": "display_data"
    }
   ],
   "source": [
    "plt.plot(df4_ma['Date'], df4_ma['USDMYR'], label='Original', marker='o')\n",
    "plt.plot(df4_ma['Date'], df4_ma['Predicted_value'], label='Predicted', marker='x')\n",
    "\n",
    "plt.title('Comparison of Predicted vs. Original Values')\n",
    "plt.legend()\n",
    "plt.show()"
   ]
  },
  {
   "cell_type": "code",
   "execution_count": 154,
   "id": "8c857f61",
   "metadata": {},
   "outputs": [
    {
     "data": {
      "text/plain": [
       "LinearRegression()"
      ]
     },
     "execution_count": 154,
     "metadata": {},
     "output_type": "execute_result"
    }
   ],
   "source": [
    "# from sklearn.linear_model import LinearRegression\n",
    "# lm = LinearRegression()\n",
    "# lm.fit(X_train,y_train)"
   ]
  },
  {
   "cell_type": "code",
   "execution_count": 45,
   "id": "7f7e7c9e",
   "metadata": {},
   "outputs": [
    {
     "data": {
      "text/html": [
       "<div>\n",
       "<style scoped>\n",
       "    .dataframe tbody tr th:only-of-type {\n",
       "        vertical-align: middle;\n",
       "    }\n",
       "\n",
       "    .dataframe tbody tr th {\n",
       "        vertical-align: top;\n",
       "    }\n",
       "\n",
       "    .dataframe thead th {\n",
       "        text-align: right;\n",
       "    }\n",
       "</style>\n",
       "<table border=\"1\" class=\"dataframe\">\n",
       "  <thead>\n",
       "    <tr style=\"text-align: right;\">\n",
       "      <th></th>\n",
       "      <th>Date</th>\n",
       "      <th>USDCNY</th>\n",
       "      <th>USDMYR</th>\n",
       "      <th>Dummy</th>\n",
       "      <th>DX</th>\n",
       "    </tr>\n",
       "  </thead>\n",
       "  <tbody>\n",
       "    <tr>\n",
       "      <th>0</th>\n",
       "      <td>2013-01-03 00:00:00.000000</td>\n",
       "      <td>6.233800</td>\n",
       "      <td>3.039933</td>\n",
       "      <td>0</td>\n",
       "      <td>0.000000</td>\n",
       "    </tr>\n",
       "    <tr>\n",
       "      <th>1</th>\n",
       "      <td>2013-01-04 00:00:00.000000</td>\n",
       "      <td>6.234433</td>\n",
       "      <td>3.037033</td>\n",
       "      <td>0</td>\n",
       "      <td>0.000000</td>\n",
       "    </tr>\n",
       "    <tr>\n",
       "      <th>2</th>\n",
       "      <td>2013-01-07 00:00:00.000000</td>\n",
       "      <td>6.232067</td>\n",
       "      <td>3.040100</td>\n",
       "      <td>0</td>\n",
       "      <td>0.000000</td>\n",
       "    </tr>\n",
       "    <tr>\n",
       "      <th>3</th>\n",
       "      <td>2013-01-08 00:00:00.000000</td>\n",
       "      <td>6.230934</td>\n",
       "      <td>3.042500</td>\n",
       "      <td>0</td>\n",
       "      <td>0.000000</td>\n",
       "    </tr>\n",
       "    <tr>\n",
       "      <th>4</th>\n",
       "      <td>2013-01-09 00:00:00.000000</td>\n",
       "      <td>6.228167</td>\n",
       "      <td>3.039367</td>\n",
       "      <td>0</td>\n",
       "      <td>0.000000</td>\n",
       "    </tr>\n",
       "    <tr>\n",
       "      <th>...</th>\n",
       "      <td>...</td>\n",
       "      <td>...</td>\n",
       "      <td>...</td>\n",
       "      <td>...</td>\n",
       "      <td>...</td>\n",
       "    </tr>\n",
       "    <tr>\n",
       "      <th>2741</th>\n",
       "      <td>2023-07-24 00:00:00.000000</td>\n",
       "      <td>7.193433</td>\n",
       "      <td>4.547833</td>\n",
       "      <td>1</td>\n",
       "      <td>7.193433</td>\n",
       "    </tr>\n",
       "    <tr>\n",
       "      <th>2742</th>\n",
       "      <td>2023-07-25 00:00:00.000000</td>\n",
       "      <td>7.179900</td>\n",
       "      <td>4.558167</td>\n",
       "      <td>1</td>\n",
       "      <td>7.179900</td>\n",
       "    </tr>\n",
       "    <tr>\n",
       "      <th>2743</th>\n",
       "      <td>2023-07-26 00:00:00.000000</td>\n",
       "      <td>7.166200</td>\n",
       "      <td>4.568500</td>\n",
       "      <td>1</td>\n",
       "      <td>7.166200</td>\n",
       "    </tr>\n",
       "    <tr>\n",
       "      <th>2744</th>\n",
       "      <td>2023-07-27 00:00:00.000000</td>\n",
       "      <td>7.156900</td>\n",
       "      <td>4.564000</td>\n",
       "      <td>1</td>\n",
       "      <td>7.156900</td>\n",
       "    </tr>\n",
       "    <tr>\n",
       "      <th>2745</th>\n",
       "      <td>2023-07-28 00:00:00.000000</td>\n",
       "      <td>7.152833</td>\n",
       "      <td>4.546333</td>\n",
       "      <td>1</td>\n",
       "      <td>7.152833</td>\n",
       "    </tr>\n",
       "  </tbody>\n",
       "</table>\n",
       "<p>2746 rows × 5 columns</p>\n",
       "</div>"
      ],
      "text/plain": [
       "                            Date    USDCNY    USDMYR  Dummy        DX\n",
       "0     2013-01-03 00:00:00.000000  6.233800  3.039933      0  0.000000\n",
       "1     2013-01-04 00:00:00.000000  6.234433  3.037033      0  0.000000\n",
       "2     2013-01-07 00:00:00.000000  6.232067  3.040100      0  0.000000\n",
       "3     2013-01-08 00:00:00.000000  6.230934  3.042500      0  0.000000\n",
       "4     2013-01-09 00:00:00.000000  6.228167  3.039367      0  0.000000\n",
       "...                          ...       ...       ...    ...       ...\n",
       "2741  2023-07-24 00:00:00.000000  7.193433  4.547833      1  7.193433\n",
       "2742  2023-07-25 00:00:00.000000  7.179900  4.558167      1  7.179900\n",
       "2743  2023-07-26 00:00:00.000000  7.166200  4.568500      1  7.166200\n",
       "2744  2023-07-27 00:00:00.000000  7.156900  4.564000      1  7.156900\n",
       "2745  2023-07-28 00:00:00.000000  7.152833  4.546333      1  7.152833\n",
       "\n",
       "[2746 rows x 5 columns]"
      ]
     },
     "execution_count": 45,
     "metadata": {},
     "output_type": "execute_result"
    }
   ],
   "source": [
    "\n",
    "df_eco = sqldf(\"\"\"select *,\n",
    "              \n",
    "                case when Date < '2018-01-01' then 0 else 1 end as Dummy\n",
    "                from df2_ma\n",
    "              \"\"\")\n",
    "\n",
    "df2_eco = sqldf(\"\"\"select *,\n",
    "                 USDCNY*Dummy as DX\n",
    "                from df_eco\n",
    "              \"\"\")\n",
    "df2_eco"
   ]
  },
  {
   "cell_type": "code",
   "execution_count": 48,
   "id": "769b76fe",
   "metadata": {},
   "outputs": [
    {
     "name": "stdout",
     "output_type": "stream",
     "text": [
      "r_squared_eco = 0.7949072864984388\n",
      "adjusted_r_squared_eco = 0.794832544255909\n",
      "Intercept_eco => [-6.26024946]\n",
      "coefficient_eco => [[ 1.56600602  7.8039532  -1.17044715]]\n"
     ]
    }
   ],
   "source": [
    "lm_eco = LinearRegression()\n",
    "lm_eco.fit(df2_eco[['USDCNY','Dummy','DX']], df2_eco[['USDMYR']])\n",
    "r_squared_eco = lm_eco.score(df2_eco[['USDCNY','Dummy','DX']], df2_eco[['USDMYR']])\n",
    "\n",
    "num_X_eco = df2_eco[['USDCNY']].shape[0]\n",
    "num_Y_eco = df2_eco[['USDMYR']].shape[1]\n",
    "adjusted_r_squared_eco = 1 - (1 - r_squared_eco) * ((num_X_eco  - 1) / (num_X_eco  - num_Y_eco  - 1))\n",
    "\n",
    "print(f\"r_squared_eco = {r_squared_eco}\")\n",
    "print(f\"adjusted_r_squared_eco = {adjusted_r_squared_eco}\")\n",
    "\n",
    "print(f\"Intercept_eco => {lm_eco.intercept_}\")\n",
    "print(f\"coefficient_eco => {lm_eco.coef_}\")"
   ]
  },
  {
   "cell_type": "code",
   "execution_count": 51,
   "id": "6c5d6cd8",
   "metadata": {},
   "outputs": [
    {
     "data": {
      "text/html": [
       "<div>\n",
       "<style scoped>\n",
       "    .dataframe tbody tr th:only-of-type {\n",
       "        vertical-align: middle;\n",
       "    }\n",
       "\n",
       "    .dataframe tbody tr th {\n",
       "        vertical-align: top;\n",
       "    }\n",
       "\n",
       "    .dataframe thead th {\n",
       "        text-align: right;\n",
       "    }\n",
       "</style>\n",
       "<table border=\"1\" class=\"dataframe\">\n",
       "  <thead>\n",
       "    <tr style=\"text-align: right;\">\n",
       "      <th></th>\n",
       "      <th>Date</th>\n",
       "      <th>USDCNY</th>\n",
       "      <th>USDMYR</th>\n",
       "      <th>Dummy</th>\n",
       "      <th>DX</th>\n",
       "      <th>Predicted_value</th>\n",
       "    </tr>\n",
       "  </thead>\n",
       "  <tbody>\n",
       "    <tr>\n",
       "      <th>0</th>\n",
       "      <td>2013-01-03 00:00:00.000000</td>\n",
       "      <td>6.233800</td>\n",
       "      <td>3.039933</td>\n",
       "      <td>0</td>\n",
       "      <td>0.000000</td>\n",
       "      <td>3.501919</td>\n",
       "    </tr>\n",
       "    <tr>\n",
       "      <th>1</th>\n",
       "      <td>2013-01-04 00:00:00.000000</td>\n",
       "      <td>6.234433</td>\n",
       "      <td>3.037033</td>\n",
       "      <td>0</td>\n",
       "      <td>0.000000</td>\n",
       "      <td>3.502911</td>\n",
       "    </tr>\n",
       "    <tr>\n",
       "      <th>2</th>\n",
       "      <td>2013-01-07 00:00:00.000000</td>\n",
       "      <td>6.232067</td>\n",
       "      <td>3.040100</td>\n",
       "      <td>0</td>\n",
       "      <td>0.000000</td>\n",
       "      <td>3.499205</td>\n",
       "    </tr>\n",
       "    <tr>\n",
       "      <th>3</th>\n",
       "      <td>2013-01-08 00:00:00.000000</td>\n",
       "      <td>6.230934</td>\n",
       "      <td>3.042500</td>\n",
       "      <td>0</td>\n",
       "      <td>0.000000</td>\n",
       "      <td>3.497430</td>\n",
       "    </tr>\n",
       "    <tr>\n",
       "      <th>4</th>\n",
       "      <td>2013-01-09 00:00:00.000000</td>\n",
       "      <td>6.228167</td>\n",
       "      <td>3.039367</td>\n",
       "      <td>0</td>\n",
       "      <td>0.000000</td>\n",
       "      <td>3.493097</td>\n",
       "    </tr>\n",
       "    <tr>\n",
       "      <th>...</th>\n",
       "      <td>...</td>\n",
       "      <td>...</td>\n",
       "      <td>...</td>\n",
       "      <td>...</td>\n",
       "      <td>...</td>\n",
       "      <td>...</td>\n",
       "    </tr>\n",
       "    <tr>\n",
       "      <th>2741</th>\n",
       "      <td>2023-07-24 00:00:00.000000</td>\n",
       "      <td>7.193433</td>\n",
       "      <td>4.547833</td>\n",
       "      <td>1</td>\n",
       "      <td>7.193433</td>\n",
       "      <td>4.389130</td>\n",
       "    </tr>\n",
       "    <tr>\n",
       "      <th>2742</th>\n",
       "      <td>2023-07-25 00:00:00.000000</td>\n",
       "      <td>7.179900</td>\n",
       "      <td>4.558167</td>\n",
       "      <td>1</td>\n",
       "      <td>7.179900</td>\n",
       "      <td>4.383777</td>\n",
       "    </tr>\n",
       "    <tr>\n",
       "      <th>2743</th>\n",
       "      <td>2023-07-26 00:00:00.000000</td>\n",
       "      <td>7.166200</td>\n",
       "      <td>4.568500</td>\n",
       "      <td>1</td>\n",
       "      <td>7.166200</td>\n",
       "      <td>4.378358</td>\n",
       "    </tr>\n",
       "    <tr>\n",
       "      <th>2744</th>\n",
       "      <td>2023-07-27 00:00:00.000000</td>\n",
       "      <td>7.156900</td>\n",
       "      <td>4.564000</td>\n",
       "      <td>1</td>\n",
       "      <td>7.156900</td>\n",
       "      <td>4.374679</td>\n",
       "    </tr>\n",
       "    <tr>\n",
       "      <th>2745</th>\n",
       "      <td>2023-07-28 00:00:00.000000</td>\n",
       "      <td>7.152833</td>\n",
       "      <td>4.546333</td>\n",
       "      <td>1</td>\n",
       "      <td>7.152833</td>\n",
       "      <td>4.373070</td>\n",
       "    </tr>\n",
       "  </tbody>\n",
       "</table>\n",
       "<p>2746 rows × 6 columns</p>\n",
       "</div>"
      ],
      "text/plain": [
       "                            Date    USDCNY    USDMYR  Dummy        DX  \\\n",
       "0     2013-01-03 00:00:00.000000  6.233800  3.039933      0  0.000000   \n",
       "1     2013-01-04 00:00:00.000000  6.234433  3.037033      0  0.000000   \n",
       "2     2013-01-07 00:00:00.000000  6.232067  3.040100      0  0.000000   \n",
       "3     2013-01-08 00:00:00.000000  6.230934  3.042500      0  0.000000   \n",
       "4     2013-01-09 00:00:00.000000  6.228167  3.039367      0  0.000000   \n",
       "...                          ...       ...       ...    ...       ...   \n",
       "2741  2023-07-24 00:00:00.000000  7.193433  4.547833      1  7.193433   \n",
       "2742  2023-07-25 00:00:00.000000  7.179900  4.558167      1  7.179900   \n",
       "2743  2023-07-26 00:00:00.000000  7.166200  4.568500      1  7.166200   \n",
       "2744  2023-07-27 00:00:00.000000  7.156900  4.564000      1  7.156900   \n",
       "2745  2023-07-28 00:00:00.000000  7.152833  4.546333      1  7.152833   \n",
       "\n",
       "      Predicted_value  \n",
       "0            3.501919  \n",
       "1            3.502911  \n",
       "2            3.499205  \n",
       "3            3.497430  \n",
       "4            3.493097  \n",
       "...               ...  \n",
       "2741         4.389130  \n",
       "2742         4.383777  \n",
       "2743         4.378358  \n",
       "2744         4.374679  \n",
       "2745         4.373070  \n",
       "\n",
       "[2746 rows x 6 columns]"
      ]
     },
     "execution_count": 51,
     "metadata": {},
     "output_type": "execute_result"
    }
   ],
   "source": [
    "predicted_values_eco = lm_eco.predict(df2_eco[['USDCNY','Dummy','DX']])\n",
    "df2_eco['Predicted_value'] = predicted_values_eco\n",
    "df2_eco"
   ]
  },
  {
   "cell_type": "code",
   "execution_count": 50,
   "id": "d1db0e99",
   "metadata": {},
   "outputs": [
    {
     "name": "stdout",
     "output_type": "stream",
     "text": [
      "RMSE_eco => 0.1943415799419215\n",
      "SI_eco => 4.866287366724392\n"
     ]
    }
   ],
   "source": [
    "\n",
    "\n",
    "\n",
    "\n",
    "from sklearn.metrics import mean_squared_error\n",
    "\n",
    "mse_eco = mean_squared_error(df2_eco[['USDMYR']],df2_eco[['Predicted_value']] )\n",
    "rmse_eco = np.sqrt(mse_eco)\n",
    "\n",
    "mean_eco = df2_eco['USDMYR'].mean()\n",
    "\n",
    "\n",
    "#scatter Index\n",
    "SI_eco = rmse_eco/mean_eco * 100\n",
    "\n",
    "\n",
    "print(f\"RMSE_eco => {rmse_eco}\")\n",
    "print(f\"SI_eco => {SI_eco}\")\n",
    "\n"
   ]
  },
  {
   "cell_type": "code",
   "execution_count": null,
   "id": "cd70d51e",
   "metadata": {},
   "outputs": [],
   "source": [
    "from chow_test import chow_test\n",
    "\n",
    "x_chow=df2_eco['USDCNY=X'].squeeze()\n",
    "y_chow=df2_eco['USDMYR=X'].squeeze()\n",
    "\n",
    "chow_test(y_series=y_chow, X_series=x_chow,\n",
    "         last_index=1378,\n",
    "         first_index=1379,\n",
    "         significance=.05)"
   ]
  },
  {
   "cell_type": "markdown",
   "id": "c782f6dc",
   "metadata": {},
   "source": [
    "## Regression Evaluation Metrics\n",
    "\n",
    "\n",
    "Here are three common evaluation metrics for regression problems:\n",
    "\n",
    "**Mean Absolute Error** (MAE) is the mean of the absolute value of the errors:\n",
    "\n",
    "$$\\frac 1n\\sum_{i=1}^n|y_i-\\hat{y}_i|$$\n",
    "\n",
    "**Mean Squared Error** (MSE) is the mean of the squared errors:\n",
    "\n",
    "$$\\frac 1n\\sum_{i=1}^n(y_i-\\hat{y}_i)^2$$\n",
    "\n",
    "**Root Mean Squared Error** (RMSE) is the square root of the mean of the squared errors:\n",
    "\n",
    "$$\\sqrt{\\frac 1n\\sum_{i=1}^n(y_i-\\hat{y}_i)^2}$$\n",
    "\n",
    "Comparing these metrics:\n",
    "\n",
    "- **MAE** is the easiest to understand, because it's the average error.\n",
    "- **MSE** is more popular than MAE, because MSE \"punishes\" larger errors, which tends to be useful in the real world.\n",
    "- **RMSE** is even more popular than MSE, because RMSE is interpretable in the \"y\" units.\n"
   ]
  },
  {
   "cell_type": "code",
   "execution_count": null,
   "id": "7e8475a2",
   "metadata": {},
   "outputs": [],
   "source": [
    "from statsmodels.tsa.stattools import adfuller\n",
    "def adfuller_test(series, signif=0.05, name='', verbose=False):\n",
    "    \"\"\"Perform ADFuller to test for Stationarity of given series and print report\"\"\"\n",
    "    r = adfuller(series, autolag='AIC')\n",
    "    output = {'test_statistic':round(r[0], 4), 'pvalue':round(r[1], 4), 'n_lags':round(r[2], 4), 'n_obs':r[3]}\n",
    "    p_value = output['pvalue'] \n",
    "    def adjust(val, length= 6): return str(val).ljust(length)\n",
    "\n",
    "    # Print Summary\n",
    "    print(f'    Augmented Dickey-Fuller Test on \"{name}\"', \"\\n   \", '-'*47)\n",
    "    print(f' Null Hypothesis: Data has unit root. Non-Stationary.')\n",
    "    print(f' Significance Level    = {signif}')\n",
    "    print(f' Test Statistic        = {output[\"test_statistic\"]}')\n",
    "    print(f' No. Lags Chosen       = {output[\"n_lags\"]}')\n",
    "\n",
    "    for key,val in r[4].items():\n",
    "        print(f' Critical value {adjust(key)} = {round(val, 3)}')\n",
    "\n",
    "    if p_value <= signif:\n",
    "        print(f\" => P-Value = {p_value}. Rejecting Null Hypothesis.\")\n",
    "        print(f\" => Series is Stationary.\")\n",
    "    else:\n",
    "        print(f\" => P-Value = {p_value}. Weak evidence to reject the Null Hypothesis.\")\n",
    "        print(f\" => Series is Non-Stationary.\")\n",
    "        \n",
    "# ADF Test on each column\n",
    "for name, column in check_df.iteritems():\n",
    "    adfuller_test(column, name=column.name)\n",
    "    print()"
   ]
  }
 ],
 "metadata": {
  "kernelspec": {
   "display_name": "Python 3 (ipykernel)",
   "language": "python",
   "name": "python3"
  },
  "language_info": {
   "codemirror_mode": {
    "name": "ipython",
    "version": 3
   },
   "file_extension": ".py",
   "mimetype": "text/x-python",
   "name": "python",
   "nbconvert_exporter": "python",
   "pygments_lexer": "ipython3",
   "version": "3.9.13"
  }
 },
 "nbformat": 4,
 "nbformat_minor": 5
}
