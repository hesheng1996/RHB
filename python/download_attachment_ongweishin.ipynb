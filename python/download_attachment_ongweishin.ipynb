{
 "cells": [
  {
   "cell_type": "code",
   "execution_count": 6,
   "id": "bcd6f006",
   "metadata": {},
   "outputs": [],
   "source": [
    "import win32com.client\n",
    "import re\n",
    "import datetime\n",
    "import time\n",
    "\n",
    "input_dt = datetime.date.today()\n",
    "date_yymmdd = input_dt.strftime('%y%m%d')\n",
    "\n",
    "\n",
    "outlook = win32com.client.Dispatch(\"Outlook.Application\").GetNamespace(\"MAPI\")\n",
    "inbox = outlook.GetDefaultFolder(6)\n",
    "messages = inbox.Items\n",
    "messages.Sort(\"[ReceivedTime]\", True)\n",
    "today = datetime.date.today()\n",
    "\n",
    "for msg in messages:\n",
    "    try:\n",
    "    \n",
    "     if msg.SentOn.date().strftime('%y%m%d') == date_yymmdd and msg.subject.__contains__('EQD Position Summary') and str(msg.Sender)=='Ong Wei Shin':\n",
    "            \n",
    "        attachments = msg.Attachments\n",
    "        for ath in attachments:\n",
    "                         if ath.FileName[-4:] == 'xlsx':\n",
    "                            ath.SaveAsFile(r'\\\\10.186.237.122\\grcm\\GCRM-GEN\\GCCRM\\Group Corporate Credit Risk\\DSP Utilisation\\Sources\\\\' + ath.FileName)\n",
    "                            \n",
    "     \n",
    "     else:\n",
    "      pass\n",
    "     msg = messages.GetNext()\n",
    "    except:\n",
    "     msg = messages.GetNext() \n",
    "    "
   ]
  }
 ],
 "metadata": {
  "kernelspec": {
   "display_name": "Python 3 (ipykernel)",
   "language": "python",
   "name": "python3"
  },
  "language_info": {
   "codemirror_mode": {
    "name": "ipython",
    "version": 3
   },
   "file_extension": ".py",
   "mimetype": "text/x-python",
   "name": "python",
   "nbconvert_exporter": "python",
   "pygments_lexer": "ipython3",
   "version": "3.9.13"
  }
 },
 "nbformat": 4,
 "nbformat_minor": 5
}
