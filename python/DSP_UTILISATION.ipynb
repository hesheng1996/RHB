{
 "cells": [
  {
   "cell_type": "code",
   "execution_count": 5,
   "id": "fd3c0d91",
   "metadata": {
    "execution": {
     "iopub.execute_input": "2023-01-03T03:44:45.664177Z",
     "iopub.status.busy": "2023-01-03T03:44:45.664177Z",
     "iopub.status.idle": "2023-01-03T03:44:50.912974Z",
     "shell.execute_reply": "2023-01-03T03:44:50.912069Z"
    }
   },
   "outputs": [],
   "source": [
    "import pandas as pd\n",
    "from datetime import datetime, timedelta\n",
    "pd.set_option('display.max_rows', 500) \n",
    "pd.options.display.float_format = '{:20,.8f}'.format\n",
    "\n",
    "input_dt = datetime.today()\n",
    "first = input_dt.replace(day=1)\n",
    "last_day = first - timedelta(days=1)\n",
    "date_yyyymmdd = last_day.strftime('%Y%m%d')\n",
    "date_yymm = last_day.strftime('%y%m')\n",
    "date_yyyy = last_day.strftime('%Y')\n",
    "\n",
    "df = pd.read_csv(r'\\\\10.186.237.122\\grcm\\GCRM-GEN\\GCCRM\\Group Corporate Credit Risk\\DSP Utilisation\\Monthly\\MAN_MR_MY_EQ.M' + date_yyyymmdd + '.csv')\n",
    "Template_DSP = pd.read_excel(r'\\\\10.186.237.122\\grcm\\GCRM-GEN\\GCCRM\\Group Corporate Credit Risk\\DSP Utilisation\\Template DSP.xlsx', sheet_name='working')\n",
    "\n",
    "Template_DSP.sort_values(\"New_ISIN\", inplace=True)\n",
    "Template_DSP['New_ISIN'] = Template_DSP['New_ISIN'].str.replace(\" \", \"\")\n",
    "Template_DSP.drop_duplicates(subset=\"New_ISIN\", inplace=True, keep=\"first\")\n",
    "\n",
    "df['UNIT_MARKET_VALUE'] = df['UNIT_MARKET_VALUE'].astype('float64')\n",
    "df['ISIN'] = df['ISIN'].str.replace(\" \", \"\")\n",
    "df['Utilisation_Value_RM'] = df['HOLDING_UNIT'] * df['UNIT_MARKET_VALUE']\n",
    "df2 = df[['ISIN','Utilisation_Value_RM']].groupby(['ISIN'], as_index=False).agg(Utilisation_Value_RM = ('Utilisation_Value_RM' ,'sum')).query(\"Utilisation_Value_RM != 0\").sort_values(['Utilisation_Value_RM'], ascending=False)\n",
    "merged = (pd.merge(df2,Template_DSP, how='left',  left_on ='ISIN' , right_on='New_ISIN'))[['Bloomberg name','ISIN', 'Utilisation_Value_RM']]\n",
    "\n",
    "\n",
    "merged.rename(columns = {'Bloomberg name':'NAME'}, inplace = True)\n",
    "merged['CategoryName'] = 'DSP_Equity'\n",
    "merged = merged[['NAME','ISIN', 'CategoryName','Utilisation_Value_RM']]\n",
    "\n",
    "\n",
    "\n",
    "writer = pd.ExcelWriter(r'\\\\10.186.237.122\\grcm\\GCRM-GEN\\GCCRM\\Group Corporate Credit Risk\\DSP Utilisation\\\\' + date_yyyy +'\\DSP Utilisation_'+ date_yymm + '_python.xlsx', engine='xlsxwriter')\n",
    "\n",
    "#  Convert the dataframe to an XlsxWriter Excel object.\n",
    "merged.to_excel(writer, sheet_name='Sheet1',index = False)\n",
    "\n",
    "# Get the xlsxwriter workbook and worksheet objects.\n",
    "workbook  = writer.book\n",
    "worksheet = writer.sheets['Sheet1']\n",
    "\n",
    "# Set a currency number format for a column.\n",
    "num_format = workbook.add_format({'num_format': '#,###.00'})\n",
    "worksheet.set_column('D:D', None, num_format)\n",
    "\n",
    "# Close the Pandas Excel writer and output the Excel file.\n",
    "\n",
    "writer.close()\n",
    "\n",
    "\n"
   ]
  }
 ],
 "metadata": {
  "kernelspec": {
   "display_name": "Python 3 (ipykernel)",
   "language": "python",
   "name": "python3"
  },
  "language_info": {
   "codemirror_mode": {
    "name": "ipython",
    "version": 3
   },
   "file_extension": ".py",
   "mimetype": "text/x-python",
   "name": "python",
   "nbconvert_exporter": "python",
   "pygments_lexer": "ipython3",
   "version": "3.9.13"
  }
 },
 "nbformat": 4,
 "nbformat_minor": 5
}
