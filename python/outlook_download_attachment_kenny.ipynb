{
 "cells": [
  {
   "cell_type": "code",
   "execution_count": 12,
   "id": "bcd6f006",
   "metadata": {},
   "outputs": [],
   "source": [
    "import win32com.client\n",
    "import datetime\n",
    "from dateutil.relativedelta import relativedelta\n",
    "\n",
    "\n",
    "input_dt = datetime.date.today()\n",
    "date_yymm = input_dt.strftime('%y%m')\n",
    "\n",
    "prev = input_dt- relativedelta(months=1)\n",
    "date_prev_yymm=prev.strftime('%y%m')\n",
    "date_prev_year=prev.strftime('%Y')\n",
    "date_prev_year2=prev.strftime('%B')\n",
    "\n",
    "outlook = win32com.client.Dispatch(\"Outlook.Application\").GetNamespace(\"MAPI\")\n",
    "inbox = outlook.GetDefaultFolder(6)\n",
    "messages = inbox.Items\n",
    "messages.Sort(\"[ReceivedTime]\", False)\n",
    "today = datetime.date.today()\n",
    "\n",
    "\n",
    "for msg in messages:\n",
    "    try:\n",
    "    \n",
    "        if msg.SentOn.date().strftime('%y%m') == date_yymm and msg.subject.__contains__('RE: RAS 2020 - GCRC monthly tracking') and str(msg.Sender)=='Kenny Tee Chee Meng':\n",
    "             \n",
    "            attachments = msg.Attachments\n",
    "            for ath in attachments:\n",
    "                         if ath.FileName[-4:] == 'xlsx':\n",
    "                              ath.SaveAsFile(r'\\\\10.186.237.122\\grcm\\GCRM-GEN\\GCCRM\\Group Corporate Credit Risk\\Others\\2022\\Non-Retail\\Group Report\\2212_December 2022\\Detail Data Sheet_Dec2022\\Source_ECL\\\\' + ath.FileName)\n",
    "                              #print(msg.SentOn.date(),i)\n",
    "                              \n",
    "\n",
    "        \n",
    "        else:\n",
    "            pass\n",
    "            msg = messages.GetNext()\n",
    " \n",
    "    except:\n",
    "            msg = messages.GetNext() \n",
    "    "
   ]
  }
 ],
 "metadata": {
  "kernelspec": {
   "display_name": "Python 3 (ipykernel)",
   "language": "python",
   "name": "python3"
  },
  "language_info": {
   "codemirror_mode": {
    "name": "ipython",
    "version": 3
   },
   "file_extension": ".py",
   "mimetype": "text/x-python",
   "name": "python",
   "nbconvert_exporter": "python",
   "pygments_lexer": "ipython3",
   "version": "3.9.13"
  }
 },
 "nbformat": 4,
 "nbformat_minor": 5
}
