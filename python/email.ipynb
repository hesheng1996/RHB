{
 "cells": [
  {
   "cell_type": "code",
   "execution_count": 12,
   "id": "5708691d",
   "metadata": {},
   "outputs": [],
   "source": [
    "import win32com.client\n",
    "from datetime import datetime, timedelta\n",
    "\n",
    "\n",
    "input_dt = datetime.today()\n",
    "first = input_dt.replace(day=1)\n",
    "last_day = first - timedelta(days=1)\n",
    "date_yyyymmdd = last_day.strftime('%Y%m%d')\n",
    "date_yymm = last_day.strftime('%y%m')\n",
    "date_yyyy = last_day.strftime('%Y')\n",
    "\n",
    "ol=win32com.client.Dispatch(\"outlook.application\")\n",
    "olmailitem=0x0 #size of the new email\n",
    "newmail=ol.CreateItem(olmailitem)\n",
    "newmail.Subject= 'Testing Mail 2'\n",
    "newmail.To='mohamad.hafiz.hamzah@rhbgroup.com; cheong.xin.hoi@rhbgroup.com'\n",
    "newmail.cc = 'eng.he.sheng@rhbgroup.com'\n",
    "newmail.Body= 'Hello, this is a test email to showcase how to send emails from Python and Outlook.'\n",
    "attach = r'\\\\10.186.237.122\\grcm\\GCRM-GEN\\GCCRM\\Group Corporate Credit Risk\\DSP Utilisation\\\\' + date_yyyy +'\\DSP Utilisation_'+ date_yymm + '.xlsx'\n",
    "newmail.Attachments.Add(attach)\n",
    "# To display the mail before sending it\n",
    "# newmail.Display() \n",
    "newmail.Send()"
   ]
  },
  {
   "cell_type": "code",
   "execution_count": null,
   "id": "a60e0bb6",
   "metadata": {},
   "outputs": [],
   "source": []
  }
 ],
 "metadata": {
  "kernelspec": {
   "display_name": "Python 3 (ipykernel)",
   "language": "python",
   "name": "python3"
  },
  "language_info": {
   "codemirror_mode": {
    "name": "ipython",
    "version": 3
   },
   "file_extension": ".py",
   "mimetype": "text/x-python",
   "name": "python",
   "nbconvert_exporter": "python",
   "pygments_lexer": "ipython3",
   "version": "3.9.13"
  }
 },
 "nbformat": 4,
 "nbformat_minor": 5
}
